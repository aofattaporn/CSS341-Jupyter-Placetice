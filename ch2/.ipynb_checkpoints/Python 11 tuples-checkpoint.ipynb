{
 "cells": [
  {
   "cell_type": "markdown",
   "metadata": {
    "colab_type": "text",
    "id": "VZtePyxE0Bcw"
   },
   "source": [
    "<h1>Tuples in Python</h1>\n",
    "<p><strong>Welcome!</strong> This notebook will teach you the basic use and operations of tuples in Python language. You'll understand some basic use and operations on tuples, including indexing and slicing.</p>"
   ]
  },
  {
   "cell_type": "markdown",
   "metadata": {},
   "source": [
    "<div class=\"alert alert-success alertsuccess\" style=\"margin-top: 20px\">\n",
    "<p>[Tip1]: แต่ละช่องเรียกว่า cell ซึ่งอาจเป็น Code หรือ Markdown. Markdown มีไว้สำหรับเขียนคำอธิบายยาวๆ หรือใส่รูปภาพ รวมทั้ง cell นี้ก็เป็น Markdown. เราสามารถเปลี่ยนชนิดของ Cell ได้จาก เมนู <kbd>Cell</kbd> + <kbd>Cell Type</kbd> หรือคำสั่ง <kbd>Y</kbd> เพื่อให้เปลี่ยนเป็น Code หรือ <kbd>M</kbd> ให้เป็น Markdown ก็ได้\n",
    "<p>[Tip2]: ใช้คำสั่ง <kbd>a</kbd> หรือเมนู <kbd>Insert</kbd> + <kbd>Insert Cell Above</kbd> เพื่อเพิ่มแทรก cell ก่อนหน้า และคำสั่ง <kbd>b</kbd> หรือเมนู <kbd>Insert</kbd> + <kbd>Insert Cell Below</kbd> เพื่อเพิ่มแทรก cell ถัดไป\n",
    "<p>[Tip3]: การจะทดลองรันโค้ด Python ใน cell ใด ให้คลิกเลือกที่ cell นั้น แล้วกด <kbd>Shift</kbd> + <kbd>Enter</kbd>\n",
    "<p>[Tip4]: การจะ Restart (หรือ reset) การทำงาน (kernel) ก่อนรันใหม่ ให้ไปที่เมนู <kbd>Kernel</kbd> + <kbd>Restart</kbd> หรือกดคำสั่ง <kbd>0</kbd> <kbd>0</kbd>\n",
    "<p>[Tip5]: การจะทดลองรันโค้ดจากต้นมาถึงก่อน cell นี้ ให้ไปที่เมนู <kbd>Cell</kbd> + <kbd>Run All Above</kbd>\n",
    "<p>[Tip6]: การจะ Restart (หรือ reset) การทำงาน (kernel) แล้วให้รันทั้งหมด ให้ไปที่เมนู <kbd>Kernel</kbd> + <kbd>Restart & Run all</kbd>\n",
    "<p>[Tip7]: Cheat sheet for this Jupyter Notebook can be <a href=\"https://www.edureka.co/blog/wp-content/uploads/2018/10/Jupyter_Notebook_CheatSheet_Edureka.pdf\" target=\"_blank\">downloaded here</a>.\n",
    "<p>[Tip8]: Writing markdown for notebook can be <a href=\"https://www.ibm.com/docs/en/db2-event-store/2.0.0?topic=notebooks-markdown-jupyter-cheatsheet\" target=\"_blank\">is here</a>.\n",
    "</div>"
   ]
  },
  {
   "cell_type": "markdown",
   "metadata": {
    "colab_type": "text",
    "id": "apo49cXP0Bc5"
   },
   "source": [
    "In Python, there are different *basic* data types: string, integer and float. \n",
    "\n",
    "A <b>tuple</b> is a collection which is <font color='red'>ordered and unchangeable</font>. Tuples are used to store multiple items in a single variable.\n",
    "\n",
    "Tuple is one of 4 built-in data types in Python used to store collections of data, the other 3 are List, Dictionary, and Set, all with different qualities and usage.\n",
    "\n",
    "\n",
    "Tuples are written with <b>round brackets (  )</b>."
   ]
  },
  {
   "cell_type": "markdown",
   "metadata": {
    "colab_type": "text",
    "id": "bTb7TveV0Bc7"
   },
   "source": [
    "Now, let us create your first tuple with string, integer and float."
   ]
  },
  {
   "cell_type": "code",
   "execution_count": 1,
   "metadata": {
    "colab": {},
    "colab_type": "code",
    "id": "t4Mub1Nd0Bc9"
   },
   "outputs": [
    {
     "data": {
      "text/plain": [
       "('classic', 10, 2.3)"
      ]
     },
     "execution_count": 1,
     "metadata": {},
     "output_type": "execute_result"
    }
   ],
   "source": [
    "# Create your first tuple\n",
    "\n",
    "song = (\"classic\", 10, 2.3)\n",
    "song"
   ]
  },
  {
   "cell_type": "markdown",
   "metadata": {
    "colab_type": "text",
    "id": "PdJ7_-3T0BdF"
   },
   "source": [
    "The type of variable is a **tuple**. "
   ]
  },
  {
   "cell_type": "code",
   "execution_count": 2,
   "metadata": {
    "colab": {},
    "colab_type": "code",
    "id": "I44AGW_G0BdG"
   },
   "outputs": [
    {
     "data": {
      "text/plain": [
       "tuple"
      ]
     },
     "execution_count": 2,
     "metadata": {},
     "output_type": "execute_result"
    }
   ],
   "source": [
    "# Print the type of the tuple you created\n",
    "\n",
    "type(song)"
   ]
  },
  {
   "cell_type": "markdown",
   "metadata": {
    "colab_type": "text",
    "id": "lUFBIMFq0BdO"
   },
   "source": [
    "<h3 id=\"index\">Indexing</h3>"
   ]
  },
  {
   "cell_type": "markdown",
   "metadata": {
    "colab_type": "text",
    "id": "-U6PvHSQ0BdP"
   },
   "source": [
    " Each element of a tuple can be accessed via an index. Each element can be obtained by the name of the tuple followed by a square bracket with the index number:"
   ]
  },
  {
   "cell_type": "markdown",
   "metadata": {
    "colab_type": "text",
    "id": "2P7jTH780BdR"
   },
   "source": [
    "We can print out each value in the tuple:"
   ]
  },
  {
   "cell_type": "code",
   "execution_count": 3,
   "metadata": {
    "colab": {},
    "colab_type": "code",
    "id": "EReO8cF00BdT"
   },
   "outputs": [
    {
     "name": "stdout",
     "output_type": "stream",
     "text": [
      "classic\n",
      "10\n"
     ]
    },
    {
     "ename": "NameError",
     "evalue": "name 'sortedng' is not defined",
     "output_type": "error",
     "traceback": [
      "\u001b[0;31m---------------------------------------------------------------------------\u001b[0m",
      "\u001b[0;31mNameError\u001b[0m                                 Traceback (most recent call last)",
      "\u001b[0;32m<ipython-input-3-e2a8532d9b99>\u001b[0m in \u001b[0;36m<module>\u001b[0;34m\u001b[0m\n\u001b[1;32m      3\u001b[0m \u001b[0mprint\u001b[0m\u001b[0;34m(\u001b[0m\u001b[0msong\u001b[0m\u001b[0;34m[\u001b[0m\u001b[0;36m0\u001b[0m\u001b[0;34m]\u001b[0m\u001b[0;34m)\u001b[0m\u001b[0;34m\u001b[0m\u001b[0;34m\u001b[0m\u001b[0m\n\u001b[1;32m      4\u001b[0m \u001b[0mprint\u001b[0m\u001b[0;34m(\u001b[0m\u001b[0msong\u001b[0m\u001b[0;34m[\u001b[0m\u001b[0;36m1\u001b[0m\u001b[0;34m]\u001b[0m\u001b[0;34m)\u001b[0m\u001b[0;34m\u001b[0m\u001b[0;34m\u001b[0m\u001b[0m\n\u001b[0;32m----> 5\u001b[0;31m \u001b[0mprint\u001b[0m\u001b[0;34m(\u001b[0m\u001b[0msortedng\u001b[0m\u001b[0;34m[\u001b[0m\u001b[0;36m2\u001b[0m\u001b[0;34m]\u001b[0m\u001b[0;34m)\u001b[0m\u001b[0;34m\u001b[0m\u001b[0;34m\u001b[0m\u001b[0m\n\u001b[0m",
      "\u001b[0;31mNameError\u001b[0m: name 'sortedng' is not defined"
     ]
    }
   ],
   "source": [
    "# Print the variable on each index\n",
    "\n",
    "print(song[0])\n",
    "print(song[1])\n",
    "print(sortedng[2])"
   ]
  },
  {
   "cell_type": "markdown",
   "metadata": {
    "colab_type": "text",
    "id": "A66PdGJG0BdZ"
   },
   "source": [
    "We can print out the **type** of each value in the tuple:\n"
   ]
  },
  {
   "cell_type": "code",
   "execution_count": 4,
   "metadata": {
    "colab": {},
    "colab_type": "code",
    "id": "EVrsJYtM0Bda"
   },
   "outputs": [
    {
     "data": {
      "text/plain": [
       "(str, int, float)"
      ]
     },
     "execution_count": 4,
     "metadata": {},
     "output_type": "execute_result"
    }
   ],
   "source": [
    "# See the type of value on each index\n",
    "\n",
    "type(song[0]), type(song[1]), type(song[2])"
   ]
  },
  {
   "attachments": {
    "image-4.png": {
     "image/png": "[encoded data removed]"
    }
   },
   "cell_type": "markdown",
   "metadata": {
    "colab_type": "text",
    "id": "Nlg6Obek0Bdi"
   },
   "source": [
    "We can also use negative indexing. We use the same table above with corresponding negative values:\n",
    "![image-4.png](attachment:image-4.png)"
   ]
  },
  {
   "cell_type": "markdown",
   "metadata": {
    "colab_type": "text",
    "id": "Lkgm3XaC0Bdk"
   },
   "source": [
    "We can obtain the last element as follows (this time we will not use the print statement to display the values):"
   ]
  },
  {
   "cell_type": "code",
   "execution_count": null,
   "metadata": {
    "colab": {},
    "colab_type": "code",
    "id": "mTjLkIsl0Bdl"
   },
   "outputs": [],
   "source": [
    "# Use negative index to get the value of the last element\n",
    "\n",
    "song[-1]"
   ]
  },
  {
   "cell_type": "code",
   "execution_count": null,
   "metadata": {
    "colab": {},
    "colab_type": "code",
    "id": "FTU85ibA0Bdt"
   },
   "outputs": [],
   "source": [
    "# Use negative index to get the value of the second last element\n",
    "\n",
    "song[-2]"
   ]
  },
  {
   "cell_type": "code",
   "execution_count": 5,
   "metadata": {
    "colab": {},
    "colab_type": "code",
    "id": "v5QeMHwx0Bd0"
   },
   "outputs": [
    {
     "data": {
      "text/plain": [
       "'classic'"
      ]
     },
     "execution_count": 5,
     "metadata": {},
     "output_type": "execute_result"
    }
   ],
   "source": [
    "# Use negative index to get the value of the third last element\n",
    "\n",
    "song[-3]"
   ]
  },
  {
   "cell_type": "markdown",
   "metadata": {
    "colab_type": "text",
    "id": "LbtFvPSa0Bd8"
   },
   "source": [
    "<h3 id=\"concate\">Concatenate Tuples</h3>"
   ]
  },
  {
   "cell_type": "markdown",
   "metadata": {
    "colab_type": "text",
    "id": "QotSNTPv0Bd_"
   },
   "source": [
    "We can concatenate or combine tuples by using the **+** sign:"
   ]
  },
  {
   "cell_type": "code",
   "execution_count": 6,
   "metadata": {
    "colab": {},
    "colab_type": "code",
    "id": "o02PyqJ40BeA"
   },
   "outputs": [
    {
     "data": {
      "text/plain": [
       "('classic', 10, 2.3, 'pop', 6, 4.5)"
      ]
     },
     "execution_count": 6,
     "metadata": {},
     "output_type": "execute_result"
    }
   ],
   "source": [
    "# Concatenate two tuples\n",
    "\n",
    "new_song = song + (\"pop\", 6, 4.5)\n",
    "new_song"
   ]
  },
  {
   "cell_type": "markdown",
   "metadata": {
    "colab_type": "text",
    "id": "BL0jmhvB0BeH"
   },
   "source": [
    "<h3 id=\"slice\">Slicing</h3>"
   ]
  },
  {
   "attachments": {
    "image-6.png": {
     "image/png": "[encoded data removed]"
    }
   },
   "cell_type": "markdown",
   "metadata": {
    "colab_type": "text",
    "id": "QJR0dUUI0BeH"
   },
   "source": [
    "We can slice tuples, obtaining new tuples with the corresponding elements:\n",
    "![image-6.png](attachment:image-6.png)"
   ]
  },
  {
   "cell_type": "code",
   "execution_count": null,
   "metadata": {
    "colab": {},
    "colab_type": "code",
    "id": "57McFGDY0BeI"
   },
   "outputs": [],
   "source": [
    "# Slice from index 0 to index 2\n",
    "\n",
    "new_song[0:3]"
   ]
  },
  {
   "cell_type": "code",
   "execution_count": null,
   "metadata": {
    "colab": {},
    "colab_type": "code",
    "id": "WQ4L_JEJ0BeO"
   },
   "outputs": [],
   "source": [
    "# Slice from index 3 to index 4\n",
    "\n",
    "new_song[3:5]"
   ]
  },
  {
   "cell_type": "markdown",
   "metadata": {
    "colab_type": "text",
    "id": "B9ei48Fl0BeV"
   },
   "source": [
    "We can obtain the length of a tuple using the length command: "
   ]
  },
  {
   "cell_type": "code",
   "execution_count": null,
   "metadata": {
    "colab": {},
    "colab_type": "code",
    "id": "pEIWFT0K0BeW"
   },
   "outputs": [],
   "source": [
    "# Get the length of tuple\n",
    "\n",
    "len(tuple2)"
   ]
  },
  {
   "cell_type": "code",
   "execution_count": 9,
   "metadata": {},
   "outputs": [
    {
     "data": {
      "text/plain": [
       "(4.5, 'pop', 10)"
      ]
     },
     "execution_count": 9,
     "metadata": {},
     "output_type": "execute_result"
    }
   ],
   "source": [
    "# want to 4.5 pop 10 \n",
    "new_song[-1:-6:-2]"
   ]
  },
  {
   "cell_type": "markdown",
   "metadata": {
    "colab_type": "text",
    "id": "-vntAxjh0Bef"
   },
   "source": [
    "<h3 id=\"sort\">Sorting</h3>"
   ]
  },
  {
   "cell_type": "markdown",
   "metadata": {
    "colab_type": "text",
    "id": "LM7IpI7A0Beg"
   },
   "source": [
    " Consider the following tuple:"
   ]
  },
  {
   "cell_type": "code",
   "execution_count": 11,
   "metadata": {
    "colab": {},
    "colab_type": "code",
    "id": "mUd1fF4E0Beh"
   },
   "outputs": [],
   "source": [
    "# A sample tuple\n",
    "\n",
    "ratings = (0, 9, 6, 5, 10, 8, 9, 6, 2)"
   ]
  },
  {
   "cell_type": "code",
   "execution_count": 18,
   "metadata": {},
   "outputs": [
    {
     "data": {
      "text/plain": [
       "25"
      ]
     },
     "execution_count": 18,
     "metadata": {},
     "output_type": "execute_result"
    }
   ],
   "source": [
    "ratings[3] * 5"
   ]
  },
  {
   "cell_type": "code",
   "execution_count": 19,
   "metadata": {},
   "outputs": [
    {
     "data": {
      "text/plain": [
       "(0, 9, 6, 5, 10, 8, 9, 6, 2)"
      ]
     },
     "execution_count": 19,
     "metadata": {},
     "output_type": "execute_result"
    }
   ],
   "source": [
    "ratings "
   ]
  },
  {
   "cell_type": "markdown",
   "metadata": {
    "colab_type": "text",
    "id": "LFhMZ5eG0Bem"
   },
   "source": [
    "We can sort the values in a tuple and save it to a new tuple: "
   ]
  },
  {
   "cell_type": "code",
   "execution_count": 12,
   "metadata": {
    "colab": {},
    "colab_type": "code",
    "id": "px7c1-EO0Ben"
   },
   "outputs": [
    {
     "data": {
      "text/plain": [
       "[0, 2, 5, 6, 6, 8, 9, 9, 10]"
      ]
     },
     "execution_count": 12,
     "metadata": {},
     "output_type": "execute_result"
    }
   ],
   "source": [
    "# Sort the tuple\n",
    "\n",
    "sorted_ratings = sorted(ratings)\n",
    "sorted_ratings"
   ]
  },
  {
   "cell_type": "markdown",
   "metadata": {
    "colab_type": "text",
    "id": "zwkSSvSb0Bet"
   },
   "source": [
    "<h3 id=\"nest\">Nested Tuple</h3>"
   ]
  },
  {
   "cell_type": "markdown",
   "metadata": {
    "colab_type": "text",
    "id": "ZenROxvC0Beu"
   },
   "source": [
    "A tuple can contain another tuple as well as other more complex data types. This process is called 'nesting'. Consider the following tuple with several elements: "
   ]
  },
  {
   "cell_type": "code",
   "execution_count": null,
   "metadata": {
    "colab": {},
    "colab_type": "code",
    "id": "a77XqLEB0Bev"
   },
   "outputs": [],
   "source": [
    "# Create a nest tuple\n",
    "\n",
    "ntup =(1, 2, (\"pop\", \"rock\"), (3,4), (\"disco\",(1,2)))"
   ]
  },
  {
   "cell_type": "markdown",
   "metadata": {
    "colab_type": "text",
    "id": "p6CvxLwF0Be1"
   },
   "source": [
    "Each element in the tuple including other tuples can be obtained via an index as shown in the figure:"
   ]
  },
  {
   "cell_type": "code",
   "execution_count": null,
   "metadata": {
    "colab": {},
    "colab_type": "code",
    "id": "GSuVrJFt0Be3"
   },
   "outputs": [],
   "source": [
    "# Print element on each index\n",
    "\n",
    "print(\"Element 0 of Tuple: \", ntup[0])\n",
    "print(\"Element 1 of Tuple: \", ntup[1])\n",
    "print(\"Element 2 of Tuple: \", ntup[2])\n",
    "print(\"Element 3 of Tuple: \", ntup[3])\n",
    "print(\"Element 4 of Tuple: \", ntup[4])"
   ]
  },
  {
   "cell_type": "markdown",
   "metadata": {
    "colab_type": "text",
    "id": "YBWmfYvT0Be7"
   },
   "source": [
    "We can use the second index to access other tuples as demonstrated in the figure:"
   ]
  },
  {
   "cell_type": "code",
   "execution_count": null,
   "metadata": {
    "colab": {},
    "colab_type": "code",
    "id": "344hBxc-0Be9"
   },
   "outputs": [],
   "source": [
    "# Print element on each index, including nest indexes\n",
    "\n",
    "print(\"Element 2, 0 of Tuple: \",   ntup[2][0])\n",
    "print(\"Element 2, 1 of Tuple: \",   ntup[2][1])\n",
    "print(\"Element 3, 0 of Tuple: \",   ntup[3][0])\n",
    "print(\"Element 3, 1 of Tuple: \",   ntup[3][1])\n",
    "print(\"Element 4, 0 of Tuple: \",   ntup[4][0])\n",
    "print(\"Element 4, 1 of Tuple: \",   ntup[4][1])"
   ]
  },
  {
   "cell_type": "markdown",
   "metadata": {
    "colab_type": "text",
    "id": "U2iRlUHN0BfE"
   },
   "source": [
    "We can access strings in the second nested tuples using a third index:"
   ]
  },
  {
   "cell_type": "code",
   "execution_count": null,
   "metadata": {
    "colab": {},
    "colab_type": "code",
    "id": "EW3U2ouJ0BfF"
   },
   "outputs": [],
   "source": [
    "# Print the first element in the second nested tuples\n",
    "\n",
    "ntup[2][1][0]"
   ]
  },
  {
   "cell_type": "code",
   "execution_count": null,
   "metadata": {
    "colab": {},
    "colab_type": "code",
    "id": "pRgWYqvg0BfK"
   },
   "outputs": [],
   "source": [
    "# Print the second element in the second nested tuples\n",
    "\n",
    "ntup[2][1][1]"
   ]
  },
  {
   "cell_type": "markdown",
   "metadata": {
    "colab_type": "text",
    "id": "W0O2hmLJ0BfP"
   },
   "source": [
    " We can use a tree to visualise the process. Each new index corresponds to a deeper level in the tree:"
   ]
  },
  {
   "cell_type": "markdown",
   "metadata": {
    "colab_type": "text",
    "id": "Bnbst6G-0Bfe"
   },
   "source": [
    "<h2 id=\"quiz\">Quiz on Tuples</h2>"
   ]
  },
  {
   "cell_type": "markdown",
   "metadata": {
    "colab_type": "text",
    "id": "b0aIBAA80Bff"
   },
   "source": [
    "Consider the following tuple:"
   ]
  },
  {
   "cell_type": "code",
   "execution_count": 1,
   "metadata": {
    "colab": {},
    "colab_type": "code",
    "id": "gaoS6PuW0Bfh"
   },
   "outputs": [
    {
     "data": {
      "text/plain": [
       "('pop',\n",
       " 'rock',\n",
       " 'soul',\n",
       " 'hard rock',\n",
       " 'soft rock',\n",
       " 'R&B',\n",
       " 'progressive rock',\n",
       " 'disco')"
      ]
     },
     "execution_count": 1,
     "metadata": {},
     "output_type": "execute_result"
    }
   ],
   "source": [
    "# sample tuple\n",
    "\n",
    "genres_tuple = (\"pop\", \"rock\", \"soul\", \"hard rock\", \"soft rock\", \\\n",
    "                \"R&B\", \"progressive rock\", \"disco\") \n",
    "genres_tuple"
   ]
  },
  {
   "cell_type": "markdown",
   "metadata": {
    "colab_type": "text",
    "id": "7ufGG7Gb0Bfn"
   },
   "source": [
    "Find the length of the tuple, <code>genres_tuple</code>:"
   ]
  },
  {
   "cell_type": "code",
   "execution_count": 6,
   "metadata": {
    "colab": {},
    "colab_type": "code",
    "id": "wK0ubNRk0Bfn"
   },
   "outputs": [
    {
     "data": {
      "text/plain": [
       "8"
      ]
     },
     "execution_count": 6,
     "metadata": {},
     "output_type": "execute_result"
    }
   ],
   "source": [
    "# Write your code below and press Shift+Enter to execute\n",
    "\n",
    "len(genres_tuple)"
   ]
  },
  {
   "cell_type": "markdown",
   "metadata": {
    "colab_type": "text",
    "id": "aZ7PhaFb0Bfu"
   },
   "source": [
    "Double-click __here__ for the solution.\n",
    "\n",
    "<!-- Your answer is below:\n",
    "len(genres_tuple)\n",
    "-->"
   ]
  },
  {
   "cell_type": "markdown",
   "metadata": {
    "colab_type": "text",
    "id": "0eoaIu130Bfv"
   },
   "source": [
    "Access the element, with respect to index 3: "
   ]
  },
  {
   "cell_type": "code",
   "execution_count": null,
   "metadata": {
    "colab": {},
    "colab_type": "code",
    "id": "FDw7-WvH0Bfw"
   },
   "outputs": [],
   "source": [
    "# Write your code below and press Shift+Enter to execute"
   ]
  },
  {
   "cell_type": "markdown",
   "metadata": {
    "colab_type": "text",
    "id": "-YHZfX0M0Bf0"
   },
   "source": [
    "Double-click __here__ for the solution.\n",
    "\n",
    "<!-- Your answer is below:\n",
    "genres_tuple[3]\n",
    "-->"
   ]
  },
  {
   "cell_type": "markdown",
   "metadata": {
    "colab_type": "text",
    "id": "Fpe7Ne6M0Bf1"
   },
   "source": [
    "Use slicing to obtain indexes 3, 4 and 5:"
   ]
  },
  {
   "cell_type": "code",
   "execution_count": null,
   "metadata": {
    "colab": {},
    "colab_type": "code",
    "id": "IcXu7J6O0Bf1"
   },
   "outputs": [],
   "source": [
    "# Write your code below and press Shift+Enter to execute"
   ]
  },
  {
   "cell_type": "markdown",
   "metadata": {
    "colab_type": "text",
    "id": "7LuGwcJQ0Bf6"
   },
   "source": [
    "Double-click __here__ for the solution.\n",
    "\n",
    "<!-- Your answer is below:\n",
    "genres_tuple[3:6]\n",
    "-->"
   ]
  },
  {
   "cell_type": "markdown",
   "metadata": {
    "colab_type": "text",
    "id": "-t9L8zF70Bf7"
   },
   "source": [
    "Find the first two elements of the tuple <code>genres_tuple</code>:"
   ]
  },
  {
   "cell_type": "code",
   "execution_count": null,
   "metadata": {
    "colab": {},
    "colab_type": "code",
    "id": "ARcnR06n0Bf-"
   },
   "outputs": [],
   "source": [
    "# Write your code below and press Shift+Enter to execute"
   ]
  },
  {
   "cell_type": "markdown",
   "metadata": {
    "colab_type": "text",
    "id": "VKEVINU30BgF"
   },
   "source": [
    "Double-click __here__ for the solution.\n",
    "\n",
    "<!-- Your answer is below:\n",
    "genres_tuple[0:2]\n",
    "-->"
   ]
  },
  {
   "cell_type": "markdown",
   "metadata": {
    "colab_type": "text",
    "id": "j-Za2GaJ0BgH"
   },
   "source": [
    "Find the first index of <code>\"disco\"</code>:"
   ]
  },
  {
   "cell_type": "code",
   "execution_count": null,
   "metadata": {
    "colab": {},
    "colab_type": "code",
    "id": "ftHpEehx0BgJ"
   },
   "outputs": [],
   "source": [
    "# Write your code below and press Shift+Enter to execute"
   ]
  },
  {
   "cell_type": "markdown",
   "metadata": {
    "colab_type": "text",
    "id": "-W8SeniD0BgQ"
   },
   "source": [
    "Double-click __here__ for the solution.\n",
    "\n",
    "<!-- Your answer is below:\n",
    "genres_tuple.index(\"disco\")\n",
    "-->"
   ]
  },
  {
   "cell_type": "markdown",
   "metadata": {
    "colab_type": "text",
    "id": "QHrqycmm0BgR"
   },
   "source": [
    "Generate a sorted List from the Tuple <code>C_tuple=(-5, 1, -3)</code>:"
   ]
  },
  {
   "cell_type": "code",
   "execution_count": null,
   "metadata": {
    "colab": {},
    "colab_type": "code",
    "id": "d6d3gMM30BgT"
   },
   "outputs": [],
   "source": [
    "# Write your code below and press Shift+Enter to execute"
   ]
  },
  {
   "cell_type": "markdown",
   "metadata": {
    "colab_type": "text",
    "id": "n_Ng9OAP0BgZ"
   },
   "source": [
    "Double-click __here__ for the solution.\n",
    "\n",
    "<!-- Your answer is below:\n",
    "C_tuple = (-5, 1, -3)\n",
    "C_list = sorted(C_tuple)\n",
    "C_list\n",
    "-->"
   ]
  },
  {
   "cell_type": "markdown",
   "metadata": {
    "colab_type": "text",
    "id": "TjY3pd2Y0Bgi"
   },
   "source": [
    "<hr>"
   ]
  }
 ],
 "metadata": {
  "colab": {
   "name": "PY0101EN-2-1-Tuples.ipynb",
   "provenance": []
  },
  "kernelspec": {
   "display_name": "Python 3",
   "language": "python",
   "name": "python3"
  },
  "language_info": {
   "codemirror_mode": {
    "name": "ipython",
    "version": 3
   },
   "file_extension": ".py",
   "mimetype": "text/x-python",
   "name": "python",
   "nbconvert_exporter": "python",
   "pygments_lexer": "ipython3",
   "version": "3.7.2"
  }
 },
 "nbformat": 4,
 "nbformat_minor": 1
}
